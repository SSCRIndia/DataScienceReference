{
 "cells": [
  {
   "cell_type": "markdown",
   "id": "comic-clerk",
   "metadata": {},
   "source": [
    "### Install Libraries\n",
    "conda install -c conda-forge exchangelib\n",
    "\n",
    "### References\n",
    "https://ecederstrand.github.io/exchangelib/"
   ]
  },
  {
   "cell_type": "markdown",
   "id": "logical-equality",
   "metadata": {},
   "source": [
    "#### Load Libraries"
   ]
  },
  {
   "cell_type": "code",
   "execution_count": 1,
   "id": "surface-employer",
   "metadata": {},
   "outputs": [],
   "source": [
    "from datetime import timedelta\n",
    "from exchangelib import *"
   ]
  },
  {
   "cell_type": "code",
   "execution_count": 2,
   "id": "federal-material",
   "metadata": {},
   "outputs": [],
   "source": [
    "username = 'Your Email Address'\n",
    "password = 'Your Password'\n",
    "sharedmailbox = 'Shared Mail Box' # User must have a member of this mailbox"
   ]
  },
  {
   "cell_type": "code",
   "execution_count": 3,
   "id": "angry-reconstruction",
   "metadata": {},
   "outputs": [],
   "source": [
    "credentials = Credentials(username, password)\n",
    "config = Configuration(server='smtp.office365.com', credentials=credentials)\n",
    "account = Account(primary_smtp_address=sharedmailbox, config=config,\n",
    "          autodiscover=False, access_type=DELEGATE)"
   ]
  },
  {
   "cell_type": "markdown",
   "id": "lovely-butter",
   "metadata": {},
   "source": [
    "#### Reading First 100 EMails"
   ]
  },
  {
   "cell_type": "code",
   "execution_count": 4,
   "id": "lesser-calcium",
   "metadata": {},
   "outputs": [
    {
     "name": "stdout",
     "output_type": "stream",
     "text": [
      "Test Mailbox(name='ANANT PRAKASH AWASTHI', email_address='anant.awasthi@s.amity.edu', routing_type='SMTP', mailbox_type='OneOff') 2021-03-25 07:10:24+00:00\n",
      "Test Mail Mailbox(name='Anant Awasthi', email_address='anant.awasthi@sscr.co.in', routing_type='SMTP', mailbox_type='Mailbox') 2021-03-25 07:10:06+00:00\n"
     ]
    }
   ],
   "source": [
    "for item in account.inbox.all().order_by('-datetime_received')[:100]:\n",
    "    print(item.subject, item.sender, item.datetime_received)"
   ]
  }
 ],
 "metadata": {
  "kernelspec": {
   "display_name": "Python 3",
   "language": "python",
   "name": "python3"
  },
  "language_info": {
   "codemirror_mode": {
    "name": "ipython",
    "version": 3
   },
   "file_extension": ".py",
   "mimetype": "text/x-python",
   "name": "python",
   "nbconvert_exporter": "python",
   "pygments_lexer": "ipython3",
   "version": "3.7.10"
  }
 },
 "nbformat": 4,
 "nbformat_minor": 5
}
