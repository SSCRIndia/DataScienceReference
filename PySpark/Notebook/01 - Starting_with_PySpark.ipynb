{
 "cells": [
  {
   "cell_type": "code",
   "execution_count": 1,
   "id": "6cd321da",
   "metadata": {},
   "outputs": [],
   "source": [
    "import os\n",
    "os.chdir(r'C:\\Users\\Anant Awasthi\\Desktop\\Desktop\\PySpark')"
   ]
  },
  {
   "cell_type": "markdown",
   "id": "06ba7678",
   "metadata": {},
   "source": [
    "### Initiate a Spark Session"
   ]
  },
  {
   "cell_type": "code",
   "execution_count": 2,
   "id": "2530b75f",
   "metadata": {},
   "outputs": [
    {
     "data": {
      "text/html": [
       "\n",
       "            <div>\n",
       "                <p><b>SparkSession - in-memory</b></p>\n",
       "                \n",
       "        <div>\n",
       "            <p><b>SparkContext</b></p>\n",
       "\n",
       "            <p><a href=\"http://DESKTOP-QEVJONQ:4040\">Spark UI</a></p>\n",
       "\n",
       "            <dl>\n",
       "              <dt>Version</dt>\n",
       "                <dd><code>v2.4.6</code></dd>\n",
       "              <dt>Master</dt>\n",
       "                <dd><code>local[*]</code></dd>\n",
       "              <dt>AppName</dt>\n",
       "                <dd><code>Spark</code></dd>\n",
       "            </dl>\n",
       "        </div>\n",
       "        \n",
       "            </div>\n",
       "        "
      ],
      "text/plain": [
       "<pyspark.sql.session.SparkSession at 0x1bd05237dc8>"
      ]
     },
     "execution_count": 2,
     "metadata": {},
     "output_type": "execute_result"
    }
   ],
   "source": [
    "import pyspark\n",
    "from pyspark.sql import SparkSession\n",
    "spark = SparkSession.builder.appName('Spark').getOrCreate()\n",
    "spark"
   ]
  },
  {
   "cell_type": "markdown",
   "id": "76dcebc1",
   "metadata": {},
   "source": [
    "### Import a CSV"
   ]
  },
  {
   "cell_type": "code",
   "execution_count": 9,
   "id": "26e66afd",
   "metadata": {},
   "outputs": [],
   "source": [
    "df_pyspark = spark.read.csv(\"C:/Users/Anant Awasthi/Desktop/Desktop/PySpark/Data/2020-02-08_data.csv\", sep=\"|\", header = True)"
   ]
  },
  {
   "cell_type": "code",
   "execution_count": 10,
   "id": "7eaacab0",
   "metadata": {},
   "outputs": [
    {
     "name": "stdout",
     "output_type": "stream",
     "text": [
      "+----+----+--------+-------+--------+--------+----------+--------+-------+-------+-------+----------+\n",
      "|  CA|UNIT|     SCP|STATION|LINENAME|DIVISION|      DATE|    TIME|   DESC|ENTRIES|  EXITS| file_name|\n",
      "+----+----+--------+-------+--------+--------+----------+--------+-------+-------+-------+----------+\n",
      "|A002|R051|02-00-00|  59 ST| NQR456W|     BMT|02/01/2020|03:00:00|REGULAR|7364079|2496560|2020-02-08|\n",
      "|A002|R051|02-00-00|  59 ST| NQR456W|     BMT|02/01/2020|07:00:00|REGULAR|7364091|2496574|2020-02-08|\n",
      "|A002|R051|02-00-00|  59 ST| NQR456W|     BMT|02/01/2020|11:00:00|REGULAR|7364143|2496660|2020-02-08|\n",
      "|A002|R051|02-00-00|  59 ST| NQR456W|     BMT|02/01/2020|15:00:00|REGULAR|7364321|2496724|2020-02-08|\n",
      "|A002|R051|02-00-00|  59 ST| NQR456W|     BMT|02/01/2020|19:00:00|REGULAR|7364630|2496779|2020-02-08|\n",
      "|A002|R051|02-00-00|  59 ST| NQR456W|     BMT|02/01/2020|23:00:00|REGULAR|7364808|2496820|2020-02-08|\n",
      "|A002|R051|02-00-00|  59 ST| NQR456W|     BMT|02/02/2020|03:00:00|REGULAR|7364857|2496828|2020-02-08|\n",
      "|A002|R051|02-00-00|  59 ST| NQR456W|     BMT|02/02/2020|07:00:00|REGULAR|7364861|2496833|2020-02-08|\n",
      "|A002|R051|02-00-00|  59 ST| NQR456W|     BMT|02/02/2020|11:00:00|REGULAR|7364905|2496882|2020-02-08|\n",
      "|A002|R051|02-00-00|  59 ST| NQR456W|     BMT|02/02/2020|15:00:00|REGULAR|7365062|2496935|2020-02-08|\n",
      "|A002|R051|02-00-00|  59 ST| NQR456W|     BMT|02/02/2020|19:00:00|REGULAR|7365256|2496989|2020-02-08|\n",
      "|A002|R051|02-00-00|  59 ST| NQR456W|     BMT|02/02/2020|23:00:00|REGULAR|7365408|2497006|2020-02-08|\n",
      "|A002|R051|02-00-00|  59 ST| NQR456W|     BMT|02/03/2020|03:00:00|REGULAR|7365427|2497019|2020-02-08|\n",
      "|A002|R051|02-00-00|  59 ST| NQR456W|     BMT|02/03/2020|07:00:00|REGULAR|7365437|2497061|2020-02-08|\n",
      "|A002|R051|02-00-00|  59 ST| NQR456W|     BMT|02/03/2020|11:00:00|REGULAR|7365579|2497329|2020-02-08|\n",
      "|A002|R051|02-00-00|  59 ST| NQR456W|     BMT|02/03/2020|15:00:00|REGULAR|7365773|2497396|2020-02-08|\n",
      "|A002|R051|02-00-00|  59 ST| NQR456W|     BMT|02/03/2020|19:00:00|REGULAR|7366404|2497538|2020-02-08|\n",
      "|A002|R051|02-00-00|  59 ST| NQR456W|     BMT|02/03/2020|23:00:00|REGULAR|7366662|2497572|2020-02-08|\n",
      "|A002|R051|02-00-00|  59 ST| NQR456W|     BMT|02/04/2020|03:00:00|REGULAR|7366695|2497580|2020-02-08|\n",
      "|A002|R051|02-00-00|  59 ST| NQR456W|     BMT|02/04/2020|07:00:00|REGULAR|7366709|2497617|2020-02-08|\n",
      "+----+----+--------+-------+--------+--------+----------+--------+-------+-------+-------+----------+\n",
      "only showing top 20 rows\n",
      "\n"
     ]
    }
   ],
   "source": [
    "df_pyspark.show()"
   ]
  },
  {
   "cell_type": "code",
   "execution_count": 20,
   "id": "c7941ef9",
   "metadata": {},
   "outputs": [
    {
     "data": {
      "text/plain": [
       "pyspark.sql.dataframe.DataFrame"
      ]
     },
     "execution_count": 20,
     "metadata": {},
     "output_type": "execute_result"
    }
   ],
   "source": [
    "type(df_pyspark)"
   ]
  },
  {
   "cell_type": "markdown",
   "id": "fc871243",
   "metadata": {},
   "source": [
    "### Head with Spark"
   ]
  },
  {
   "cell_type": "code",
   "execution_count": 16,
   "id": "26ad0dd4",
   "metadata": {},
   "outputs": [
    {
     "data": {
      "text/plain": [
       "[Row(CA='A002', UNIT='R051', SCP='02-00-00', STATION='59 ST', LINENAME='NQR456W', DIVISION='BMT', DATE='02/01/2020', TIME='03:00:00', DESC='REGULAR', ENTRIES='7364079', EXITS='2496560', file_name='2020-02-08'),\n",
       " Row(CA='A002', UNIT='R051', SCP='02-00-00', STATION='59 ST', LINENAME='NQR456W', DIVISION='BMT', DATE='02/01/2020', TIME='07:00:00', DESC='REGULAR', ENTRIES='7364091', EXITS='2496574', file_name='2020-02-08'),\n",
       " Row(CA='A002', UNIT='R051', SCP='02-00-00', STATION='59 ST', LINENAME='NQR456W', DIVISION='BMT', DATE='02/01/2020', TIME='11:00:00', DESC='REGULAR', ENTRIES='7364143', EXITS='2496660', file_name='2020-02-08')]"
      ]
     },
     "execution_count": 16,
     "metadata": {},
     "output_type": "execute_result"
    }
   ],
   "source": [
    "df_pyspark.head(3)"
   ]
  },
  {
   "cell_type": "markdown",
   "id": "a59fe6f5",
   "metadata": {},
   "source": [
    "### Schema of Spark Dataframe"
   ]
  },
  {
   "cell_type": "code",
   "execution_count": 19,
   "id": "b3275498",
   "metadata": {},
   "outputs": [
    {
     "name": "stdout",
     "output_type": "stream",
     "text": [
      "root\n",
      " |-- CA: string (nullable = true)\n",
      " |-- UNIT: string (nullable = true)\n",
      " |-- SCP: string (nullable = true)\n",
      " |-- STATION: string (nullable = true)\n",
      " |-- LINENAME: string (nullable = true)\n",
      " |-- DIVISION: string (nullable = true)\n",
      " |-- DATE: string (nullable = true)\n",
      " |-- TIME: string (nullable = true)\n",
      " |-- DESC: string (nullable = true)\n",
      " |-- ENTRIES: string (nullable = true)\n",
      " |-- EXITS: string (nullable = true)\n",
      " |-- file_name: string (nullable = true)\n",
      "\n"
     ]
    }
   ],
   "source": [
    "df_pyspark.printSchema()"
   ]
  },
  {
   "cell_type": "markdown",
   "id": "d61aea33",
   "metadata": {},
   "source": [
    "### Spark dataframe to Pandas"
   ]
  },
  {
   "cell_type": "code",
   "execution_count": 23,
   "id": "526981d2",
   "metadata": {},
   "outputs": [],
   "source": [
    "pd_frame = df_pyspark.toPandas()"
   ]
  },
  {
   "cell_type": "code",
   "execution_count": 24,
   "id": "0d29ea77",
   "metadata": {},
   "outputs": [
    {
     "data": {
      "text/plain": [
       "pandas.core.frame.DataFrame"
      ]
     },
     "execution_count": 24,
     "metadata": {},
     "output_type": "execute_result"
    }
   ],
   "source": [
    "type(pd_frame)"
   ]
  },
  {
   "cell_type": "code",
   "execution_count": 25,
   "id": "76974cf1",
   "metadata": {},
   "outputs": [],
   "source": [
    "del pd_frame"
   ]
  }
 ],
 "metadata": {
  "kernelspec": {
   "display_name": "Python 3",
   "language": "python",
   "name": "python3"
  },
  "language_info": {
   "codemirror_mode": {
    "name": "ipython",
    "version": 3
   },
   "file_extension": ".py",
   "mimetype": "text/x-python",
   "name": "python",
   "nbconvert_exporter": "python",
   "pygments_lexer": "ipython3",
   "version": "3.7.10"
  }
 },
 "nbformat": 4,
 "nbformat_minor": 5
}
