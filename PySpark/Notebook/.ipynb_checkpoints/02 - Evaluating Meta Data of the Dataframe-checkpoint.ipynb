{
 "cells": [
  {
   "cell_type": "code",
   "execution_count": 1,
   "id": "6cd321da",
   "metadata": {},
   "outputs": [],
   "source": [
    "import os\n",
    "os.chdir(r'C:\\Users\\Anant Awasthi\\Desktop\\Desktop\\PySpark')"
   ]
  },
  {
   "cell_type": "markdown",
   "id": "06ba7678",
   "metadata": {},
   "source": [
    "### Initiate a Spark Session"
   ]
  },
  {
   "cell_type": "code",
   "execution_count": 2,
   "id": "2530b75f",
   "metadata": {},
   "outputs": [
    {
     "data": {
      "text/html": [
       "\n",
       "            <div>\n",
       "                <p><b>SparkSession - in-memory</b></p>\n",
       "                \n",
       "        <div>\n",
       "            <p><b>SparkContext</b></p>\n",
       "\n",
       "            <p><a href=\"http://DESKTOP-QEVJONQ:4041\">Spark UI</a></p>\n",
       "\n",
       "            <dl>\n",
       "              <dt>Version</dt>\n",
       "                <dd><code>v2.4.6</code></dd>\n",
       "              <dt>Master</dt>\n",
       "                <dd><code>local[*]</code></dd>\n",
       "              <dt>AppName</dt>\n",
       "                <dd><code>Spark</code></dd>\n",
       "            </dl>\n",
       "        </div>\n",
       "        \n",
       "            </div>\n",
       "        "
      ],
      "text/plain": [
       "<pyspark.sql.session.SparkSession at 0x1d238ba6fc8>"
      ]
     },
     "execution_count": 2,
     "metadata": {},
     "output_type": "execute_result"
    }
   ],
   "source": [
    "import pyspark\n",
    "from pyspark.sql import SparkSession\n",
    "spark = SparkSession.builder.appName('Spark').getOrCreate()\n",
    "spark"
   ]
  },
  {
   "cell_type": "markdown",
   "id": "76dcebc1",
   "metadata": {},
   "source": [
    "### Import a CSV"
   ]
  },
  {
   "cell_type": "code",
   "execution_count": 3,
   "id": "26e66afd",
   "metadata": {},
   "outputs": [],
   "source": [
    "df_pyspark = spark.read.csv(\"C:/Users/Anant Awasthi/Desktop/Desktop/PySpark/Data/Combind_data.csv\", sep=\"|\", header = True)"
   ]
  },
  {
   "cell_type": "code",
   "execution_count": 4,
   "id": "7eaacab0",
   "metadata": {},
   "outputs": [
    {
     "name": "stdout",
     "output_type": "stream",
     "text": [
      "+----+----+--------+-------+--------+--------+----------+--------+-------+-------+-------+----------+\n",
      "|  CA|UNIT|     SCP|STATION|LINENAME|DIVISION|      DATE|    TIME|   DESC|ENTRIES|  EXITS| file_name|\n",
      "+----+----+--------+-------+--------+--------+----------+--------+-------+-------+-------+----------+\n",
      "|A002|R051|02-00-00|  59 ST| NQR456W|     BMT|12/22/2018|03:00:00|REGULAR|6881995|2333630|2018-12-29|\n",
      "|A002|R051|02-00-00|  59 ST| NQR456W|     BMT|12/22/2018|07:00:00|REGULAR|6882006|2333643|2018-12-29|\n",
      "|A002|R051|02-00-00|  59 ST| NQR456W|     BMT|12/22/2018|11:00:00|REGULAR|6882062|2333740|2018-12-29|\n",
      "|A002|R051|02-00-00|  59 ST| NQR456W|     BMT|12/22/2018|15:00:00|REGULAR|6882243|2333800|2018-12-29|\n",
      "|A002|R051|02-00-00|  59 ST| NQR456W|     BMT|12/22/2018|19:00:00|REGULAR|6882590|2333868|2018-12-29|\n",
      "|A002|R051|02-00-00|  59 ST| NQR456W|     BMT|12/22/2018|23:00:00|REGULAR|6882787|2333916|2018-12-29|\n",
      "|A002|R051|02-00-00|  59 ST| NQR456W|     BMT|12/23/2018|03:00:00|REGULAR|6882830|2333933|2018-12-29|\n",
      "|A002|R051|02-00-00|  59 ST| NQR456W|     BMT|12/23/2018|07:00:00|REGULAR|6882834|2333939|2018-12-29|\n",
      "|A002|R051|02-00-00|  59 ST| NQR456W|     BMT|12/23/2018|11:00:00|REGULAR|6882878|2333982|2018-12-29|\n",
      "|A002|R051|02-00-00|  59 ST| NQR456W|     BMT|12/23/2018|15:00:00|REGULAR|6883024|2334025|2018-12-29|\n",
      "|A002|R051|02-00-00|  59 ST| NQR456W|     BMT|12/23/2018|19:00:00|REGULAR|6883274|2334065|2018-12-29|\n",
      "|A002|R051|02-00-00|  59 ST| NQR456W|     BMT|12/23/2018|23:00:00|REGULAR|6883438|2334090|2018-12-29|\n",
      "|A002|R051|02-00-00|  59 ST| NQR456W|     BMT|12/24/2018|03:00:00|REGULAR|6883470|2334101|2018-12-29|\n",
      "|A002|R051|02-00-00|  59 ST| NQR456W|     BMT|12/24/2018|07:00:00|REGULAR|6883478|2334131|2018-12-29|\n",
      "|A002|R051|02-00-00|  59 ST| NQR456W|     BMT|12/24/2018|11:00:00|REGULAR|6883541|2334266|2018-12-29|\n",
      "|A002|R051|02-00-00|  59 ST| NQR456W|     BMT|12/24/2018|15:00:00|REGULAR|6883842|2334322|2018-12-29|\n",
      "|A002|R051|02-00-00|  59 ST| NQR456W|     BMT|12/24/2018|19:00:00|REGULAR|6884293|2334372|2018-12-29|\n",
      "|A002|R051|02-00-00|  59 ST| NQR456W|     BMT|12/24/2018|23:00:00|REGULAR|6884382|2334382|2018-12-29|\n",
      "|A002|R051|02-00-00|  59 ST| NQR456W|     BMT|12/25/2018|03:00:00|REGULAR|6884397|2334394|2018-12-29|\n",
      "|A002|R051|02-00-00|  59 ST| NQR456W|     BMT|12/25/2018|07:00:00|REGULAR|6884401|2334398|2018-12-29|\n",
      "+----+----+--------+-------+--------+--------+----------+--------+-------+-------+-------+----------+\n",
      "only showing top 20 rows\n",
      "\n"
     ]
    }
   ],
   "source": [
    "df_pyspark.show()"
   ]
  },
  {
   "cell_type": "code",
   "execution_count": 5,
   "id": "c7941ef9",
   "metadata": {},
   "outputs": [
    {
     "data": {
      "text/plain": [
       "pyspark.sql.dataframe.DataFrame"
      ]
     },
     "execution_count": 5,
     "metadata": {},
     "output_type": "execute_result"
    }
   ],
   "source": [
    "type(df_pyspark)"
   ]
  },
  {
   "cell_type": "markdown",
   "id": "9fd3cc14",
   "metadata": {},
   "source": [
    "### Metadata of dataframe"
   ]
  },
  {
   "cell_type": "code",
   "execution_count": 9,
   "id": "d2545879",
   "metadata": {},
   "outputs": [
    {
     "name": "stdout",
     "output_type": "stream",
     "text": [
      "12107424 12\n"
     ]
    }
   ],
   "source": [
    "print(df_pyspark.count(), len(df_pyspark.columns))"
   ]
  },
  {
   "cell_type": "code",
   "execution_count": 10,
   "id": "acdfd6a3",
   "metadata": {},
   "outputs": [
    {
     "data": {
      "text/plain": [
       "[('CA', 'string'),\n",
       " ('UNIT', 'string'),\n",
       " ('SCP', 'string'),\n",
       " ('STATION', 'string'),\n",
       " ('LINENAME', 'string'),\n",
       " ('DIVISION', 'string'),\n",
       " ('DATE', 'string'),\n",
       " ('TIME', 'string'),\n",
       " ('DESC', 'string'),\n",
       " ('ENTRIES', 'string'),\n",
       " ('EXITS', 'string'),\n",
       " ('file_name', 'string')]"
      ]
     },
     "execution_count": 10,
     "metadata": {},
     "output_type": "execute_result"
    }
   ],
   "source": [
    "df_pyspark.dtypes"
   ]
  },
  {
   "cell_type": "markdown",
   "id": "a59fe6f5",
   "metadata": {},
   "source": [
    "### Schema of Spark Dataframe"
   ]
  },
  {
   "cell_type": "code",
   "execution_count": 19,
   "id": "b3275498",
   "metadata": {},
   "outputs": [
    {
     "name": "stdout",
     "output_type": "stream",
     "text": [
      "root\n",
      " |-- CA: string (nullable = true)\n",
      " |-- UNIT: string (nullable = true)\n",
      " |-- SCP: string (nullable = true)\n",
      " |-- STATION: string (nullable = true)\n",
      " |-- LINENAME: string (nullable = true)\n",
      " |-- DIVISION: string (nullable = true)\n",
      " |-- DATE: string (nullable = true)\n",
      " |-- TIME: string (nullable = true)\n",
      " |-- DESC: string (nullable = true)\n",
      " |-- ENTRIES: string (nullable = true)\n",
      " |-- EXITS: string (nullable = true)\n",
      " |-- file_name: string (nullable = true)\n",
      "\n"
     ]
    }
   ],
   "source": [
    "df_pyspark.printSchema()"
   ]
  },
  {
   "cell_type": "code",
   "execution_count": 25,
   "id": "76974cf1",
   "metadata": {},
   "outputs": [],
   "source": [
    "del pd_frame"
   ]
  }
 ],
 "metadata": {
  "kernelspec": {
   "display_name": "Python 3",
   "language": "python",
   "name": "python3"
  },
  "language_info": {
   "codemirror_mode": {
    "name": "ipython",
    "version": 3
   },
   "file_extension": ".py",
   "mimetype": "text/x-python",
   "name": "python",
   "nbconvert_exporter": "python",
   "pygments_lexer": "ipython3",
   "version": "3.7.10"
  }
 },
 "nbformat": 4,
 "nbformat_minor": 5
}
